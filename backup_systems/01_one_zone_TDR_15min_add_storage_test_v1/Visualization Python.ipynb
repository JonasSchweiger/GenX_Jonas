{
 "cells": [
  {
   "cell_type": "code",
   "execution_count": 8,
   "metadata": {},
   "outputs": [
    {
     "name": "stdout",
     "output_type": "stream",
     "text": [
      "1.994\n"
     ]
    }
   ],
   "source": [
    "a = 1\n",
    "b=1.994\n",
    "\n",
    "c=a*b\n",
    "print(c)"
   ]
  },
  {
   "cell_type": "code",
   "execution_count": 11,
   "metadata": {},
   "outputs": [
    {
     "ename": "NameError",
     "evalue": "name 'pd' is not defined",
     "output_type": "error",
     "traceback": [
      "\u001b[1;31m---------------------------------------------------------------------------\u001b[0m",
      "\u001b[1;31mNameError\u001b[0m                                 Traceback (most recent call last)",
      "Cell \u001b[1;32mIn[11], line 2\u001b[0m\n\u001b[0;32m      1\u001b[0m \u001b[38;5;66;03m# Read the CSV file into a DataFrame\u001b[39;00m\n\u001b[1;32m----> 2\u001b[0m df_costs \u001b[38;5;241m=\u001b[39m \u001b[43mpd\u001b[49m\u001b[38;5;241m.\u001b[39mread_csv(\u001b[38;5;124m\"\u001b[39m\u001b[38;5;124mbackup_systems/01_one_zone_TDR_15min_add_storage_test_v1/results/costs.csv\u001b[39m\u001b[38;5;124m\"\u001b[39m)\n\u001b[0;32m      4\u001b[0m \u001b[38;5;66;03m# Drop the first row (\"Costs\") which contains the labels\u001b[39;00m\n\u001b[0;32m      5\u001b[0m df_costs \u001b[38;5;241m=\u001b[39m df_costs\u001b[38;5;241m.\u001b[39miloc[\u001b[38;5;241m1\u001b[39m:]\u001b[38;5;241m.\u001b[39mloc[:, [\u001b[38;5;124m'\u001b[39m\u001b[38;5;124mCosts\u001b[39m\u001b[38;5;124m'\u001b[39m, \u001b[38;5;124m'\u001b[39m\u001b[38;5;124mTotal\u001b[39m\u001b[38;5;124m'\u001b[39m]]  \u001b[38;5;66;03m# Assuming 'Costs' and 'Total' are your column names\u001b[39;00m\n",
      "\u001b[1;31mNameError\u001b[0m: name 'pd' is not defined"
     ]
    }
   ],
   "source": [
    "import pandas as pd\n",
    "import matplotlib.pyplot as plt\n",
    "\n",
    "# Read the CSV file into a DataFrame\n",
    "df_costs = pd.read_csv(\"backup_systems/01_one_zone_TDR_15min_add_storage_test_v1/results/costs.csv\")\n",
    "\n",
    "# Drop the first row (\"Costs\") which contains the labels\n",
    "df_costs = df_costs.iloc[1:].loc[:, ['Costs', 'Total']]  # Assuming 'Costs' and 'Total' are your column names\n",
    "\n",
    "# Set the 'Costs' column as the index\n",
    "df_costs.set_index('Costs', inplace=True)\n",
    "\n",
    "# Plot the stacked bar chart\n",
    "df_costs.plot(kind='bar', stacked=True)\n",
    "\n",
    "# Customize the chart (similar to Julia code)\n",
    "plt.title('Stacked Bar Chart of Costs')\n",
    "plt.xlabel('Cost Type')\n",
    "plt.ylabel('Total')\n",
    "plt.legend(title='Cost Components', loc='upper left')  # 'upper left' corresponds to 'topleft' in Julia\n",
    "\n",
    "# Display the chart\n",
    "plt.show()"
   ]
  },
  {
   "cell_type": "code",
   "execution_count": null,
   "metadata": {},
   "outputs": [],
   "source": [
    "## Plotting clean fuels\n",
    "\n",
    "import pandas as pd\n",
    "import matplotlib.pyplot as plt\n",
    "\n",
    "# Assuming 'case' is defined somewhere before this\n",
    "filepath = case + \"/results/NetRevenue.csv\"\n",
    "\n",
    "# Read CSV into DataFrame\n",
    "netrevenue = pd.read_csv(filepath, na_values=\"NA\")\n",
    "\n",
    "# Extract x-axis labels and cost category names\n",
    "xnames = netrevenue.iloc[:, 1].tolist()\n",
    "names1 = [\"Investment cost\", \"Investment cost Storage\", \"Fixed OM cost\", \n",
    "          \"OM Cost Storage\", \"Variable OM cost\", \"Fuel cost\", \"Start Cost\", \"Revenue\"]\n",
    "\n",
    "# Calculate net revenue components\n",
    "netrev = [\n",
    "    netrevenue.iloc[:, 5] + netrevenue.iloc[:, 6] + netrevenue.iloc[:, 7],  # Investment costs\n",
    "    netrevenue.iloc[:, 8],  # Investment cost Storage\n",
    "    netrevenue.iloc[:, 9] + netrevenue.iloc[:, 10] + netrevenue.iloc[:, 11],  # Fixed OM costs\n",
    "    netrevenue.iloc[:, 12],  # OM cost Storage\n",
    "    netrevenue.iloc[:, 13] + netrevenue.iloc[:, 15],  # Variable OM cost\n",
    "    netrevenue.iloc[:, 14],  # Fuel cost\n",
    "    netrevenue.iloc[:, 17],  # Start cost\n",
    "    netrevenue.iloc[:, 20]  # Revenue\n",
    "]\n",
    "\n",
    "# Create grouped bar chart\n",
    "plt.figure(figsize=(11.3, 10))  # Adjust figure size as needed\n",
    "plt.bar(xnames, netrev[0], label=names1[0], width=0.9)\n",
    "for i in range(1, len(netrev) - 1):  # Exclude the last element (Revenue) from stacking\n",
    "    plt.bar(xnames, netrev[i], bottom=sum(netrev[:i]), label=names1[i], width=0.9)\n",
    "\n",
    "# Add scatter plot for Revenue\n",
    "plt.scatter(xnames, netrevenue.iloc[:, 20], label=\"Revenue\", color=\"black\")\n",
    "\n",
    "# Formatting\n",
    "plt.title(\"Cost Allocation\", fontsize=10)\n",
    "plt.xlabel(\"Node\")\n",
    "plt.ylabel(\"Cost (Dollars)\")\n",
    "plt.xticks(rotation=90)\n",
    "plt.ylim(0, netrevenue.iloc[:, 20].max())  # Set y-axis limit based on maximum Revenue\n",
    "plt.legend(loc='upper left', bbox_to_anchor=(1.02, 1), borderaxespad=0.0)\n",
    "\n",
    "plt.tight_layout()\n",
    "plt.show()"
   ]
  }
 ],
 "metadata": {
  "kernelspec": {
   "display_name": "Python 3",
   "language": "python",
   "name": "python3"
  },
  "language_info": {
   "codemirror_mode": {
    "name": "ipython",
    "version": 3
   },
   "file_extension": ".py",
   "mimetype": "text/x-python",
   "name": "python",
   "nbconvert_exporter": "python",
   "pygments_lexer": "ipython3",
   "version": "3.11.3"
  }
 },
 "nbformat": 4,
 "nbformat_minor": 2
}
