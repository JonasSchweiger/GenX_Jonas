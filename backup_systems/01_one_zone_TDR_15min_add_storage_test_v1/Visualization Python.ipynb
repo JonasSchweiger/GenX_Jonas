{
 "cells": [
  {
   "cell_type": "code",
   "execution_count": 2,
   "metadata": {},
   "outputs": [
    {
     "ename": "ModuleNotFoundError",
     "evalue": "No module named 'pandas'",
     "output_type": "error",
     "traceback": [
      "\u001b[1;31m---------------------------------------------------------------------------\u001b[0m",
      "\u001b[1;31mModuleNotFoundError\u001b[0m                       Traceback (most recent call last)",
      "Cell \u001b[1;32mIn[2], line 3\u001b[0m\n\u001b[0;32m      1\u001b[0m \u001b[38;5;66;03m## Plotting clean fuels\u001b[39;00m\n\u001b[1;32m----> 3\u001b[0m \u001b[38;5;28;01mimport\u001b[39;00m \u001b[38;5;21;01mpandas\u001b[39;00m \u001b[38;5;28;01mas\u001b[39;00m \u001b[38;5;21;01mpd\u001b[39;00m\n\u001b[0;32m      4\u001b[0m \u001b[38;5;28;01mimport\u001b[39;00m \u001b[38;5;21;01mmatplotlib\u001b[39;00m\u001b[38;5;21;01m.\u001b[39;00m\u001b[38;5;21;01mpyplot\u001b[39;00m \u001b[38;5;28;01mas\u001b[39;00m \u001b[38;5;21;01mplt\u001b[39;00m\n\u001b[0;32m      6\u001b[0m \u001b[38;5;66;03m# Assuming 'case' is defined somewhere before this\u001b[39;00m\n",
      "\u001b[1;31mModuleNotFoundError\u001b[0m: No module named 'pandas'"
     ]
    }
   ],
   "source": [
    "## Plotting clean fuels\n",
    "\n",
    "import pandas as pd\n",
    "import matplotlib.pyplot as plt\n",
    "\n",
    "# Assuming 'case' is defined somewhere before this\n",
    "filepath = case + \"/results/NetRevenue.csv\"\n",
    "\n",
    "# Read CSV into DataFrame\n",
    "netrevenue = pd.read_csv(filepath, na_values=\"NA\")\n",
    "\n",
    "# Extract x-axis labels and cost category names\n",
    "xnames = netrevenue.iloc[:, 1].tolist()\n",
    "names1 = [\"Investment cost\", \"Investment cost Storage\", \"Fixed OM cost\", \n",
    "          \"OM Cost Storage\", \"Variable OM cost\", \"Fuel cost\", \"Start Cost\", \"Revenue\"]\n",
    "\n",
    "# Calculate net revenue components\n",
    "netrev = [\n",
    "    netrevenue.iloc[:, 5] + netrevenue.iloc[:, 6] + netrevenue.iloc[:, 7],  # Investment costs\n",
    "    netrevenue.iloc[:, 8],  # Investment cost Storage\n",
    "    netrevenue.iloc[:, 9] + netrevenue.iloc[:, 10] + netrevenue.iloc[:, 11],  # Fixed OM costs\n",
    "    netrevenue.iloc[:, 12],  # OM cost Storage\n",
    "    netrevenue.iloc[:, 13] + netrevenue.iloc[:, 15],  # Variable OM cost\n",
    "    netrevenue.iloc[:, 14],  # Fuel cost\n",
    "    netrevenue.iloc[:, 17],  # Start cost\n",
    "    netrevenue.iloc[:, 20]  # Revenue\n",
    "]\n",
    "\n",
    "# Create grouped bar chart\n",
    "plt.figure(figsize=(11.3, 10))  # Adjust figure size as needed\n",
    "plt.bar(xnames, netrev[0], label=names1[0], width=0.9)\n",
    "for i in range(1, len(netrev) - 1):  # Exclude the last element (Revenue) from stacking\n",
    "    plt.bar(xnames, netrev[i], bottom=sum(netrev[:i]), label=names1[i], width=0.9)\n",
    "\n",
    "# Add scatter plot for Revenue\n",
    "plt.scatter(xnames, netrevenue.iloc[:, 20], label=\"Revenue\", color=\"black\")\n",
    "\n",
    "# Formatting\n",
    "plt.title(\"Cost Allocation\", fontsize=10)\n",
    "plt.xlabel(\"Node\")\n",
    "plt.ylabel(\"Cost (Dollars)\")\n",
    "plt.xticks(rotation=90)\n",
    "plt.ylim(0, netrevenue.iloc[:, 20].max())  # Set y-axis limit based on maximum Revenue\n",
    "plt.legend(loc='upper left', bbox_to_anchor=(1.02, 1), borderaxespad=0.0)\n",
    "\n",
    "plt.tight_layout()\n",
    "plt.show()"
   ]
  }
 ],
 "metadata": {
  "kernelspec": {
   "display_name": "Python 3",
   "language": "python",
   "name": "python3"
  },
  "language_info": {
   "codemirror_mode": {
    "name": "ipython",
    "version": 3
   },
   "file_extension": ".py",
   "mimetype": "text/x-python",
   "name": "python",
   "nbconvert_exporter": "python",
   "pygments_lexer": "ipython3",
   "version": "3.11.3"
  }
 },
 "nbformat": 4,
 "nbformat_minor": 2
}
